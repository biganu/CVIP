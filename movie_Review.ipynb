{
  "nbformat": 4,
  "nbformat_minor": 0,
  "metadata": {
    "colab": {
      "provenance": [],
      "authorship_tag": "ABX9TyOt08DVuG5z+ZJHm+d2PDwt",
      "include_colab_link": true
    },
    "kernelspec": {
      "name": "python3",
      "display_name": "Python 3"
    },
    "language_info": {
      "name": "python"
    }
  },
  "cells": [
    {
      "cell_type": "markdown",
      "metadata": {
        "id": "view-in-github",
        "colab_type": "text"
      },
      "source": [
        "<a href=\"https://colab.research.google.com/github/biganu/CVIP/blob/main/movie_Review.ipynb\" target=\"_parent\"><img src=\"https://colab.research.google.com/assets/colab-badge.svg\" alt=\"Open In Colab\"/></a>"
      ]
    },
    {
      "cell_type": "code",
      "source": [
        "import pandas as pd\n",
        "import matplotlib.pyplot as plt\n",
        "import seaborn as sns\n",
        "import re\n",
        "from sklearn.model_selection import train_test_split\n",
        "from sklearn.feature_extraction.text import CountVectorizer\n",
        "from sklearn.naive_bayes import MultinomialNB\n",
        "from sklearn.metrics import accuracy_score, classification_report"
      ],
      "metadata": {
        "id": "Rviwd5dl-wlj"
      },
      "execution_count": 2,
      "outputs": []
    },
    {
      "cell_type": "code",
      "source": [
        "# Load the cleaned dataset\n",
        "df = pd.read_csv('/content/IMDB-Dataset_cleaned.csv')"
      ],
      "metadata": {
        "id": "YBn5lq05-3I_"
      },
      "execution_count": 3,
      "outputs": []
    },
    {
      "cell_type": "code",
      "source": [
        "# Handle missing values by dropping rows with NaN in 'review' or 'sentiment'\n",
        "df = df.dropna(subset=['review', 'sentiment'])"
      ],
      "metadata": {
        "id": "0dMSnTBS-9X7"
      },
      "execution_count": 4,
      "outputs": []
    },
    {
      "cell_type": "code",
      "source": [
        "# Exploratory Data Analysis (EDA)\n",
        "print(df.head())\n",
        "print(df.info())\n",
        "print(df.describe())\n",
        "sentiment_counts = df['sentiment'].value_counts()\n",
        "print(sentiment_counts)\n",
        "plt.figure(figsize=(8, 6))\n",
        "sns.countplot(df['sentiment'])\n",
        "plt.title('Distribution of Sentiments')\n",
        "plt.show()"
      ],
      "metadata": {
        "colab": {
          "base_uri": "https://localhost:8080/",
          "height": 1000
        },
        "id": "GaTIhu7m_LoP",
        "outputId": "e11ef885-b948-4d64-a61e-260343af5018"
      },
      "execution_count": 5,
      "outputs": [
        {
          "output_type": "stream",
          "name": "stdout",
          "text": [
            "                                              review sentiment Unnamed: 2  \\\n",
            "0  One of the other reviewers has mentioned that ...  positive        NaN   \n",
            "1  A wonderful little production. <br /><br />The...  positive        NaN   \n",
            "2  I thought this was a wonderful way to spend ti...  positive        NaN   \n",
            "3  Basically there's a family where a little boy ...  negative        NaN   \n",
            "4  Petter Mattei's \"Love in the Time of Money\" is...  positive        NaN   \n",
            "\n",
            "  Unnamed: 3 Unnamed: 4 Unnamed: 5 Unnamed: 6 Unnamed: 7 Unnamed: 8  \\\n",
            "0        NaN        NaN        NaN        NaN        NaN        NaN   \n",
            "1        NaN        NaN        NaN        NaN        NaN        NaN   \n",
            "2        NaN        NaN        NaN        NaN        NaN        NaN   \n",
            "3        NaN        NaN        NaN        NaN        NaN        NaN   \n",
            "4        NaN        NaN        NaN        NaN        NaN        NaN   \n",
            "\n",
            "  Unnamed: 9 Unnamed: 10 Unnamed: 11 Unnamed: 12 Unnamed: 13  \n",
            "0        NaN         NaN         NaN         NaN         NaN  \n",
            "1        NaN         NaN         NaN         NaN         NaN  \n",
            "2        NaN         NaN         NaN         NaN         NaN  \n",
            "3        NaN         NaN         NaN         NaN         NaN  \n",
            "4        NaN         NaN         NaN         NaN         NaN  \n",
            "<class 'pandas.core.frame.DataFrame'>\n",
            "Index: 49998 entries, 0 to 49998\n",
            "Data columns (total 14 columns):\n",
            " #   Column       Non-Null Count  Dtype \n",
            "---  ------       --------------  ----- \n",
            " 0   review       49998 non-null  object\n",
            " 1   sentiment    49998 non-null  object\n",
            " 2   Unnamed: 2   1 non-null      object\n",
            " 3   Unnamed: 3   1 non-null      object\n",
            " 4   Unnamed: 4   1 non-null      object\n",
            " 5   Unnamed: 5   1 non-null      object\n",
            " 6   Unnamed: 6   1 non-null      object\n",
            " 7   Unnamed: 7   1 non-null      object\n",
            " 8   Unnamed: 8   1 non-null      object\n",
            " 9   Unnamed: 9   1 non-null      object\n",
            " 10  Unnamed: 10  1 non-null      object\n",
            " 11  Unnamed: 11  1 non-null      object\n",
            " 12  Unnamed: 12  1 non-null      object\n",
            " 13  Unnamed: 13  1 non-null      object\n",
            "dtypes: object(14)\n",
            "memory usage: 5.7+ MB\n",
            "None\n",
            "                                                   review sentiment  \\\n",
            "count                                               49998     49998   \n",
            "unique                                              49580         3   \n",
            "top     Loved today's show!!! It was a variety and not...  positive   \n",
            "freq                                                    5     24999   \n",
            "\n",
            "                                               Unnamed: 2  \\\n",
            "count                                                   1   \n",
            "unique                                                  1   \n",
            "top      Jerry and David Zucker cast one of its stars ...   \n",
            "freq                                                    1   \n",
            "\n",
            "                                               Unnamed: 3  \\\n",
            "count                                                   1   \n",
            "unique                                                  1   \n",
            "top      a glorious take-off of old U.S. detective sho...   \n",
            "freq                                                    1   \n",
            "\n",
            "                                               Unnamed: 4  \\\n",
            "count                                                   1   \n",
            "unique                                                  1   \n",
            "top      America's answer to 'Inspector Clouseau'. It ...   \n",
            "freq                                                    1   \n",
            "\n",
            "                    Unnamed: 5  \\\n",
            "count                        1   \n",
            "unique                       1   \n",
            "top      unnoticed absurdities   \n",
            "freq                         1   \n",
            "\n",
            "                                               Unnamed: 6  \\\n",
            "count                                                   1   \n",
            "unique                                                  1   \n",
            "top      and recurring characters such as Johnny the s...   \n",
            "freq                                                    1   \n",
            "\n",
            "                                               Unnamed: 7  \\\n",
            "count                                                   1   \n",
            "unique                                                  1   \n",
            "top      but I think it was about right. The concept c...   \n",
            "freq                                                    1   \n",
            "\n",
            "                                               Unnamed: 8  \\\n",
            "count                                                   1   \n",
            "unique                                                  1   \n",
            "top      'Police Squad' made a successful transfer to ...   \n",
            "freq                                                    1   \n",
            "\n",
            "                                               Unnamed: 9 Unnamed: 10  \\\n",
            "count                                                   1           1   \n",
            "unique                                                  1           1   \n",
            "top      when the first of the 'Naked Gun' trilogy was...       Jerry   \n",
            "freq                                                    1           1   \n",
            "\n",
            "       Unnamed: 11                       Unnamed: 12 Unnamed: 13  \n",
            "count            1                                 1           1  \n",
            "unique           1                                 1           1  \n",
            "top          David   and Leslie had the last laugh.\"    positive  \n",
            "freq             1                                 1           1  \n",
            "sentiment\n",
            "positive         24999\n",
            "negative         24998\n",
            " Jim Abrahams        1\n",
            "Name: count, dtype: int64\n"
          ]
        },
        {
          "output_type": "display_data",
          "data": {
            "text/plain": [
              "<Figure size 800x600 with 1 Axes>"
            ],
            "image/png": "[encoded data removed]"
          },
          "metadata": {}
        }
      ]
    },
    {
      "cell_type": "code",
      "source": [
        "# Text preprocessing function\n",
        "def preprocess_text(text):\n",
        "    # Handle non-string values\n",
        "    if not isinstance(text, str):\n",
        "        text = str(text)  # Convert non-string values to strings\n",
        "\n",
        "    text = re.sub(r'<[^>]+>', '', text)  # Remove HTML tags\n",
        "    text = re.sub(r'[^a-zA-Z\\s]', '', text)  # Remove special characters\n",
        "    text = text.lower()  # Convert to lowercase\n",
        "    return text"
      ],
      "metadata": {
        "id": "r_rvPPdE_VoZ"
      },
      "execution_count": 6,
      "outputs": []
    },
    {
      "cell_type": "code",
      "source": [
        "# Apply preprocessing to the reviews\n",
        "df['review'] = df['review'].apply(preprocess_text)"
      ],
      "metadata": {
        "id": "GVNxWslX_cax"
      },
      "execution_count": 7,
      "outputs": []
    },
    {
      "cell_type": "code",
      "source": [
        "# Convert sentiment labels to binary (0 = negative, 1 = positive)\n",
        "df['sentiment'] = df['sentiment'].map({'negative': 0, 'positive': 1})"
      ],
      "metadata": {
        "id": "1YxPmAHn_j9H"
      },
      "execution_count": 8,
      "outputs": []
    },
    {
      "cell_type": "code",
      "source": [
        "# Drop any rows with NaN values in 'sentiment' after mapping\n",
        "df = df.dropna(subset=['sentiment'])"
      ],
      "metadata": {
        "id": "Xq1ootyB_lmR"
      },
      "execution_count": 9,
      "outputs": []
    },
    {
      "cell_type": "code",
      "source": [
        "# Split the data into training and testing sets\n",
        "X = df['review']\n",
        "y = df['sentiment']\n",
        "X_train, X_test, y_train, y_test = train_test_split(X, y, test_size=0.5, stratify=y, random_state=42)"
      ],
      "metadata": {
        "id": "jbCy25VG_p3G"
      },
      "execution_count": 10,
      "outputs": []
    },
    {
      "cell_type": "code",
      "source": [
        "# Feature scaling using CountVectorizer\n",
        "vectorizer = CountVectorizer(stop_words='english', max_features=5000)\n",
        "X_train_vec = vectorizer.fit_transform(X_train)\n",
        "X_test_vec = vectorizer.transform(X_test)"
      ],
      "metadata": {
        "id": "qoXSDAt9_5xI"
      },
      "execution_count": 11,
      "outputs": []
    },
    {
      "cell_type": "code",
      "source": [
        "# Initialize and train the Naive Bayes classifier\n",
        "classifier = MultinomialNB()\n",
        "classifier.fit(X_train_vec, y_train)"
      ],
      "metadata": {
        "colab": {
          "base_uri": "https://localhost:8080/",
          "height": 74
        },
        "id": "RYCF3nBxACcl",
        "outputId": "ff78adcd-541e-4da6-dcfb-d9432140d579"
      },
      "execution_count": 12,
      "outputs": [
        {
          "output_type": "execute_result",
          "data": {
            "text/plain": [
              "MultinomialNB()"
            ],
            "text/html": [
              "<style>#sk-container-id-1 {color: black;}#sk-container-id-1 pre{padding: 0;}#sk-container-id-1 div.sk-toggleable {background-color: white;}#sk-container-id-1 label.sk-toggleable__label {cursor: pointer;display: block;width: 100%;margin-bottom: 0;padding: 0.3em;box-sizing: border-box;text-align: center;}#sk-container-id-1 label.sk-toggleable__label-arrow:before {content: \"▸\";float: left;margin-right: 0.25em;color: #696969;}#sk-container-id-1 label.sk-toggleable__label-arrow:hover:before {color: black;}#sk-container-id-1 div.sk-estimator:hover label.sk-toggleable__label-arrow:before {color: black;}#sk-container-id-1 div.sk-toggleable__content {max-height: 0;max-width: 0;overflow: hidden;text-align: left;background-color: #f0f8ff;}#sk-container-id-1 div.sk-toggleable__content pre {margin: 0.2em;color: black;border-radius: 0.25em;background-color: #f0f8ff;}#sk-container-id-1 input.sk-toggleable__control:checked~div.sk-toggleable__content {max-height: 200px;max-width: 100%;overflow: auto;}#sk-container-id-1 input.sk-toggleable__control:checked~label.sk-toggleable__label-arrow:before {content: \"▾\";}#sk-container-id-1 div.sk-estimator input.sk-toggleable__control:checked~label.sk-toggleable__label {background-color: #d4ebff;}#sk-container-id-1 div.sk-label input.sk-toggleable__control:checked~label.sk-toggleable__label {background-color: #d4ebff;}#sk-container-id-1 input.sk-hidden--visually {border: 0;clip: rect(1px 1px 1px 1px);clip: rect(1px, 1px, 1px, 1px);height: 1px;margin: -1px;overflow: hidden;padding: 0;position: absolute;width: 1px;}#sk-container-id-1 div.sk-estimator {font-family: monospace;background-color: #f0f8ff;border: 1px dotted black;border-radius: 0.25em;box-sizing: border-box;margin-bottom: 0.5em;}#sk-container-id-1 div.sk-estimator:hover {background-color: #d4ebff;}#sk-container-id-1 div.sk-parallel-item::after {content: \"\";width: 100%;border-bottom: 1px solid gray;flex-grow: 1;}#sk-container-id-1 div.sk-label:hover label.sk-toggleable__label {background-color: #d4ebff;}#sk-container-id-1 div.sk-serial::before {content: \"\";position: absolute;border-left: 1px solid gray;box-sizing: border-box;top: 0;bottom: 0;left: 50%;z-index: 0;}#sk-container-id-1 div.sk-serial {display: flex;flex-direction: column;align-items: center;background-color: white;padding-right: 0.2em;padding-left: 0.2em;position: relative;}#sk-container-id-1 div.sk-item {position: relative;z-index: 1;}#sk-container-id-1 div.sk-parallel {display: flex;align-items: stretch;justify-content: center;background-color: white;position: relative;}#sk-container-id-1 div.sk-item::before, #sk-container-id-1 div.sk-parallel-item::before {content: \"\";position: absolute;border-left: 1px solid gray;box-sizing: border-box;top: 0;bottom: 0;left: 50%;z-index: -1;}#sk-container-id-1 div.sk-parallel-item {display: flex;flex-direction: column;z-index: 1;position: relative;background-color: white;}#sk-container-id-1 div.sk-parallel-item:first-child::after {align-self: flex-end;width: 50%;}#sk-container-id-1 div.sk-parallel-item:last-child::after {align-self: flex-start;width: 50%;}#sk-container-id-1 div.sk-parallel-item:only-child::after {width: 0;}#sk-container-id-1 div.sk-dashed-wrapped {border: 1px dashed gray;margin: 0 0.4em 0.5em 0.4em;box-sizing: border-box;padding-bottom: 0.4em;background-color: white;}#sk-container-id-1 div.sk-label label {font-family: monospace;font-weight: bold;display: inline-block;line-height: 1.2em;}#sk-container-id-1 div.sk-label-container {text-align: center;}#sk-container-id-1 div.sk-container {/* jupyter's `normalize.less` sets `[hidden] { display: none; }` but bootstrap.min.css set `[hidden] { display: none !important; }` so we also need the `!important` here to be able to override the default hidden behavior on the sphinx rendered scikit-learn.org. See: https://github.com/scikit-learn/scikit-learn/issues/21755 */display: inline-block !important;position: relative;}#sk-container-id-1 div.sk-text-repr-fallback {display: none;}</style><div id=\"sk-container-id-1\" class=\"sk-top-container\"><div class=\"sk-text-repr-fallback\"><pre>MultinomialNB()</pre><b>In a Jupyter environment, please rerun this cell to show the HTML representation or trust the notebook. <br />On GitHub, the HTML representation is unable to render, please try loading this page with nbviewer.org.</b></div><div class=\"sk-container\" hidden><div class=\"sk-item\"><div class=\"sk-estimator sk-toggleable\"><input class=\"sk-toggleable__control sk-hidden--visually\" id=\"sk-estimator-id-1\" type=\"checkbox\" checked><label for=\"sk-estimator-id-1\" class=\"sk-toggleable__label sk-toggleable__label-arrow\">MultinomialNB</label><div class=\"sk-toggleable__content\"><pre>MultinomialNB()</pre></div></div></div></div></div>"
            ]
          },
          "metadata": {},
          "execution_count": 12
        }
      ]
    },
    {
      "cell_type": "code",
      "source": [
        "# Make predictions\n",
        "y_pred = classifier.predict(X_test_vec)"
      ],
      "metadata": {
        "id": "Dr3jyX3aAIWM"
      },
      "execution_count": 13,
      "outputs": []
    },
    {
      "cell_type": "code",
      "source": [
        "# Evaluate the model\n",
        "accuracy = accuracy_score(y_test, y_pred)\n",
        "print(f'Accuracy: {accuracy}')\n",
        "print(classification_report(y_test, y_pred))"
      ],
      "metadata": {
        "colab": {
          "base_uri": "https://localhost:8080/"
        },
        "id": "R65IkaI5AORV",
        "outputId": "fb77488d-1708-45f1-8bad-aff982a95dde"
      },
      "execution_count": 14,
      "outputs": [
        {
          "output_type": "stream",
          "name": "stdout",
          "text": [
            "Accuracy: 0.84299371974879\n",
            "              precision    recall  f1-score   support\n",
            "\n",
            "         0.0       0.84      0.85      0.84     12499\n",
            "         1.0       0.85      0.84      0.84     12500\n",
            "\n",
            "    accuracy                           0.84     24999\n",
            "   macro avg       0.84      0.84      0.84     24999\n",
            "weighted avg       0.84      0.84      0.84     24999\n",
            "\n"
          ]
        }
      ]
    },
    {
      "cell_type": "code",
      "source": [
        "# Count positive and negative reviews in the predictions\n",
        "positive_reviews = sum(y_pred == 1)\n",
        "negative_reviews = sum(y_pred == 0)\n",
        "print(f'Positive reviews: {positive_reviews}')\n",
        "print(f'Negative reviews: {negative_reviews}')"
      ],
      "metadata": {
        "colab": {
          "base_uri": "https://localhost:8080/"
        },
        "id": "c6hAIzE1AVPB",
        "outputId": "02df01d8-094d-42c7-f3ff-a96079d7511a"
      },
      "execution_count": 15,
      "outputs": [
        {
          "output_type": "stream",
          "name": "stdout",
          "text": [
            "Positive reviews: 12421\n",
            "Negative reviews: 12578\n"
          ]
        }
      ]
    },
    {
      "cell_type": "code",
      "source": [
        "#Confusion Matrix"
      ],
      "metadata": {
        "id": "mGqI2YJiAiFh"
      },
      "execution_count": null,
      "outputs": []
    },
    {
      "cell_type": "code",
      "source": [
        "from sklearn.metrics import confusion_matrix, ConfusionMatrixDisplay\n",
        "cm = confusion_matrix(y_test, y_pred)\n",
        "disp = ConfusionMatrixDisplay(confusion_matrix=cm, display_labels=['Negative', 'Positive'])\n",
        "disp.plot(cmap=plt.cm.Blues)\n",
        "plt.show()"
      ],
      "metadata": {
        "colab": {
          "base_uri": "https://localhost:8080/",
          "height": 449
        },
        "id": "C6HllazCAl2H",
        "outputId": "a53e19cd-be35-4150-a97c-23db78339631"
      },
      "execution_count": 16,
      "outputs": [
        {
          "output_type": "display_data",
          "data": {
            "text/plain": [
              "<Figure size 640x480 with 2 Axes>"
            ],
            "image/png": "[encoded data removed]"
          },
          "metadata": {}
        }
      ]
    },
    {
      "cell_type": "code",
      "source": [
        "#ROC Curve"
      ],
      "metadata": {
        "id": "Pzw6rxNOA0mA"
      },
      "execution_count": null,
      "outputs": []
    },
    {
      "source": [
        "from sklearn.feature_extraction.text import TfidfVectorizer\n",
        "\n",
        "# Assuming 'X' is the original text data before splitting\n",
        "vectorizer = TfidfVectorizer(max_features=5000) # Limit features to 5000 to match training data\n",
        "X_train_vec = vectorizer.fit_transform(X_train)  # Fit on training data and then transform it\n",
        "X_test_vec = vectorizer.transform(X_test)  # Transform test data using the same vocabulary as the training data\n",
        "\n",
        "# Now use the vectorized data for prediction\n",
        "y_pred_prob = classifier.predict_proba(X_test_vec)[:, 1]"
      ],
      "cell_type": "code",
      "metadata": {
        "id": "ewqkON68CEsN"
      },
      "execution_count": 25,
      "outputs": []
    },
    {
      "cell_type": "code",
      "source": [
        "#Classification Report:"
      ],
      "metadata": {
        "id": "jUbchP39CPKf"
      },
      "execution_count": null,
      "outputs": []
    },
    {
      "cell_type": "code",
      "source": [
        "from sklearn.metrics import classification_report\n",
        "print(classification_report(y_test, y_pred, target_names=['Negative', 'Positive']))"
      ],
      "metadata": {
        "colab": {
          "base_uri": "https://localhost:8080/"
        },
        "id": "w5GigAKdCRo9",
        "outputId": "4c481682-31be-43bf-d7c6-fa29a00675fa"
      },
      "execution_count": 26,
      "outputs": [
        {
          "output_type": "stream",
          "name": "stdout",
          "text": [
            "              precision    recall  f1-score   support\n",
            "\n",
            "    Negative       0.84      0.85      0.84     12499\n",
            "    Positive       0.85      0.84      0.84     12500\n",
            "\n",
            "    accuracy                           0.84     24999\n",
            "   macro avg       0.84      0.84      0.84     24999\n",
            "weighted avg       0.84      0.84      0.84     24999\n",
            "\n"
          ]
        }
      ]
    }
  ]
}